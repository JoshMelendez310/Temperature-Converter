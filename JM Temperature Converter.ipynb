{
 "cells": [
  {
   "cell_type": "code",
   "execution_count": 1,
   "metadata": {},
   "outputs": [],
   "source": [
    "def TempChange():\n",
    "    origscale=input('Please indicate if your temperature is Fahrenheit or Celsius. Type F or C ')\n",
    "    \n",
    "    if origscale=='F':\n",
    "        origtemp=int(input('Please input the temperature here '))\n",
    "        Celsius = (origtemp - 32) * 5.0/9.0\n",
    "        print('Here is your temperature after being converted to Celsius')\n",
    "        print(Celsius)\n",
    "        \n",
    "    elif origscale=='C':\n",
    "        origtemp=int(input('Please input the temperature here '))\n",
    "        Fahrenheit = 9.0/5.0 * origtemp + 32\n",
    "        print('Here is your temperature after being converted to Fahrenheit')\n",
    "        print(Fahrenheit)\n",
    "        \n",
    "    else:\n",
    "        \n",
    "        return \"Your input was not recognized. Please type F or C.\""
   ]
  },
  {
   "cell_type": "code",
   "execution_count": 2,
   "metadata": {},
   "outputs": [
    {
     "name": "stdout",
     "output_type": "stream",
     "text": [
      "Please indicate if your temperature is Fahrenheit or Celsius. Type F or C C\n",
      "Please input the temperature here 0\n",
      "Here is your temperature after being converted to Fahrenheit\n",
      "32.0\n"
     ]
    }
   ],
   "source": [
    "TempChange()"
   ]
  },
  {
   "cell_type": "code",
   "execution_count": 3,
   "metadata": {},
   "outputs": [
    {
     "name": "stdout",
     "output_type": "stream",
     "text": [
      "Please indicate if your temperature is Fahrenheit or Celsius. Type F or C F\n",
      "Please input the temperature here 90\n",
      "Here is your temperature after being converted to Celsius\n",
      "32.22222222222222\n"
     ]
    }
   ],
   "source": [
    "TempChange()"
   ]
  }
 ],
 "metadata": {
  "kernelspec": {
   "display_name": "Python 3",
   "language": "python",
   "name": "python3"
  },
  "language_info": {
   "codemirror_mode": {
    "name": "ipython",
    "version": 3
   },
   "file_extension": ".py",
   "mimetype": "text/x-python",
   "name": "python",
   "nbconvert_exporter": "python",
   "pygments_lexer": "ipython3",
   "version": "3.7.6"
  }
 },
 "nbformat": 4,
 "nbformat_minor": 4
}
